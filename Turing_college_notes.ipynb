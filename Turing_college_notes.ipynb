{
  "nbformat": 4,
  "nbformat_minor": 0,
  "metadata": {
    "colab": {
      "provenance": [],
      "toc_visible": true,
      "include_colab_link": true
    },
    "kernelspec": {
      "name": "python3",
      "display_name": "Python 3"
    },
    "language_info": {
      "name": "python"
    }
  },
  "cells": [
    {
      "cell_type": "markdown",
      "metadata": {
        "id": "view-in-github",
        "colab_type": "text"
      },
      "source": [
        "<a href=\"https://colab.research.google.com/github/MiestoMeska/burger-builder/blob/master/Turing_college_notes.ipynb\" target=\"_parent\"><img src=\"https://colab.research.google.com/assets/colab-badge.svg\" alt=\"Open In Colab\"/></a>"
      ]
    },
    {
      "cell_type": "markdown",
      "source": [
        "# **Module 1: Data Wrangling with Python**"
      ],
      "metadata": {
        "id": "RMwogOKQ18G0"
      }
    },
    {
      "cell_type": "markdown",
      "source": [
        "## **Sprint 1: Python Mastery**\n",
        "\n",
        "\n"
      ],
      "metadata": {
        "id": "8rnyqXnw2jb0"
      }
    },
    {
      "cell_type": "markdown",
      "source": [
        "### **Learning material**\n",
        "\n",
        "\n",
        "\n",
        "*   Data Science from Scratch, 2nd Edition by Joel Grus\n",
        "*   Modern Python LiveLessons: Big Ideas and Little Code in Python by Raymond Hettinger\n",
        "*   Coding challenges [HackerRank](https://www.hackerrank.com/)\n",
        "\n"
      ],
      "metadata": {
        "id": "cjTmu4pPy01L"
      }
    },
    {
      "cell_type": "markdown",
      "source": [
        "### **Part 1: Building Foundational Python Skills For Data Science**"
      ],
      "metadata": {
        "id": "l6p9uGKl3MA7"
      }
    },
    {
      "cell_type": "markdown",
      "source": [
        "#### **HackerRank exercise 1:** *Nested lists*\n"
      ],
      "metadata": {
        "id": "xTXOmjw1iEIo"
      }
    },
    {
      "cell_type": "markdown",
      "source": [
        "\n",
        "Given the names and grades for each student in a class of  students, store them in a nested list and print the name(s) of any student(s) having the second lowest grade.\n",
        "\n",
        "Note: If there are multiple students with the second lowest grade, order their names alphabetically and print each name on a new line.\n",
        "\n",
        "Input Format\n",
        "\n",
        "The first line contains an integer, , the number of students.\n",
        "The  subsequent lines describe each student over  lines.\n",
        "- The first line contains a student's name.\n",
        "- The second line contains their grade.\n",
        "\n",
        "Constraints\n",
        "\n",
        "There will always be one or more students having the second lowest grade.\n",
        "Output Format\n",
        "\n",
        "Print the name(s) of any student(s) having the second lowest grade in. If there are multiple students, order their names alphabetically and print each one on a new line.\n",
        "```\n",
        "Sample Input 0\n",
        "```\n",
        "```\n",
        "5\n",
        "Harry\n",
        "37.21\n",
        "Berry\n",
        "37.21\n",
        "Tina\n",
        "37.2\n",
        "Akriti\n",
        "41\n",
        "Harsh\n",
        "39\n",
        "```\n",
        "```\n",
        "Sample Output 0\n",
        "```\n",
        "```\n",
        "Berry\n",
        "Harry\n",
        "Explanation 0\n",
        "```\n",
        "\n",
        "\n",
        "There are  students in this class whose names and grades are assembled to build the following list:\n",
        "\n",
        "```\n",
        "python students = [['Harry', 37.21], ['Berry', 37.21], ['Tina', 37.2], ['Akriti', 41], ['Harsh', 39]]\n",
        "```\n",
        "\n",
        "The lowest grade of  belongs to Tina. The second lowest grade of  belongs to both Harry and Berry, so we order their names alphabetically and print each name on a new line."
      ],
      "metadata": {
        "id": "rsndh2HIxhaF"
      }
    },
    {
      "cell_type": "markdown",
      "source": [
        "**Solution:**"
      ],
      "metadata": {
        "id": "00T8iVUD4X3E"
      }
    },
    {
      "cell_type": "code",
      "source": [
        "if __name__ == '__main__':\n",
        "    records = []\n",
        "    scores = []\n",
        "    for item in range(int(input())):\n",
        "        name = input()\n",
        "        score = float(input())\n",
        "        records.append([name, score])\n",
        "        scores.append(score)\n",
        "    records.sort()\n",
        "    scores.sort()\n",
        "    lowest = scores[0]\n",
        "    scores = list(dict.fromkeys(scores))\n",
        "    for item in records:\n",
        "        if item[1] == scores[1]:\n",
        "            print(item[0])"
      ],
      "metadata": {
        "id": "opJLdz2cjFuN"
      },
      "execution_count": null,
      "outputs": []
    },
    {
      "cell_type": "markdown",
      "source": [
        "#### **HackerRank exercise 2:** *DefaultDict Tutorial*\n"
      ],
      "metadata": {
        "id": "Kq5M3dlmzrXN"
      }
    },
    {
      "cell_type": "markdown",
      "source": [
        "The defaultdict tool is a container in the collections class of Python. It's similar to the usual dictionary (dict) container, but the only difference is that a defaultdict will have a default value if that key has not been set yet. If you didn't use a defaultdict you'd have to check to see if that key exists, and if it doesn't, set it to what you want.\n",
        "For example:\n",
        "```\n",
        "from collections import defaultdict\n",
        "d = defaultdict(list)\n",
        "d['python'].append(\"awesome\")\n",
        "d['something-else'].append(\"not relevant\")\n",
        "d['python'].append(\"language\")\n",
        "for i in d.items():\n",
        "    print i\n",
        "```\n",
        "This prints:\n",
        "```\n",
        "('python', ['awesome', 'language'])\n",
        "('something-else', ['not relevant'])\n",
        "```\n",
        "In this challenge, you will be given 2 integers, n and m. There are n words, which might repeat, in word group A. There are m words belonging to word group B. For each m words, check whether the word has appeared in group A or not. Print the indices of each occurrence of m in group A. If it does not appear, print -1.\n",
        "\n",
        "Example\n",
        "\n",
        "Group A contains 'a', 'b', 'a' Group B contains 'a', 'c'\n",
        "\n",
        "For the first word in group B, 'a', it appears at positions 1 and 3 in group A. The second word, 'c', does not appear in group A, so print -1.\n",
        "\n",
        "Expected output:\n",
        "```\n",
        "1 3\n",
        "-1\n",
        "```\n",
        "Input Format\n",
        "\n",
        "The first line contains integers, n and m separated by a space.\n",
        "The next n lines contains the words belonging to group A.\n",
        "The next m lines contains the words belonging to group B.\n",
        "\n",
        "Constraints\n",
        "\n",
        "1 <= n <= 10000\n",
        "\n",
        "1 <= m <= 100\n",
        "\n",
        "1 <= length of each word in the input <= 100\n",
        "\n",
        "\n",
        "\n",
        "\n",
        "\n",
        "Output Format\n",
        "\n",
        "Output  lines.\n",
        "The i line should contain the 1-indexed positions of the occurrences of the i word separated by spaces.\n",
        "\n",
        "Sample Input\n",
        "```\n",
        "STDIN   Function\n",
        "-----   --------\n",
        "5 2     group A size n = 5, group B size m = 2\n",
        "a       group A contains 'a', 'a', 'b', 'a', 'b'\n",
        "a\n",
        "b\n",
        "a\n",
        "b\n",
        "a       group B contains 'a', 'b'\n",
        "b\n",
        "```\n",
        "Sample Output\n",
        "```\n",
        "1 2 4\n",
        "3 5\n",
        "```\n",
        "Explanation\n",
        "\n",
        "'a' appeared 3 times in positions 1, 2 and 4.\n",
        "'b' appeared 2 times in positions 3 and 5.\n",
        "In the sample problem, if 'c' also appeared in word group B, you would print -1.\n"
      ],
      "metadata": {
        "id": "eT1Kmq-8vy9j"
      }
    },
    {
      "cell_type": "markdown",
      "source": [
        "HackerRank exercise 2 solution:"
      ],
      "metadata": {
        "id": "tKyM9o7G5AoR"
      }
    },
    {
      "cell_type": "markdown",
      "source": [
        "**Solution 1:**"
      ],
      "metadata": {
        "id": "_Ba58vdE5w-f"
      }
    },
    {
      "cell_type": "code",
      "source": [
        "from collections import defaultdict\n",
        "\n",
        "if __name__ == \"__main__\":\n",
        "    groups = defaultdict(list)\n",
        "    n, m = map(int, input().split())\n",
        "    for item in range(int(n)):\n",
        "        groups['A'].append(input())\n",
        "    for item in range(int(m)):\n",
        "        groups['B'].append(input())\n",
        "    for i in groups[\"B\"]:\n",
        "        if i not in groups['A']:\n",
        "            print(\"-1\")\n",
        "        else:\n",
        "            for j in range(len(groups[\"A\"])):\n",
        "                if i == groups[\"A\"][j]:\n",
        "                    print(j+1, end=' ')\n",
        "        print()\n",
        "\n",
        "#############################################################\n",
        "# 6/10 tests passed"
      ],
      "metadata": {
        "id": "99sAWY4C5Izm"
      },
      "execution_count": null,
      "outputs": []
    },
    {
      "cell_type": "markdown",
      "source": [
        "**Solution 2:**"
      ],
      "metadata": {
        "id": "Tzc5xY_y52Zd"
      }
    },
    {
      "cell_type": "code",
      "source": [
        "from collections import defaultdict\n",
        "\n",
        "if __name__ == \"__main__\":\n",
        "    n, m = map(int, input().split())\n",
        "    A = []\n",
        "    B = []\n",
        "    for i in range(n):\n",
        "        A.append(input())\n",
        "    for i in range(m):\n",
        "        B.append(input())\n",
        "    ind = defaultdict(list)\n",
        "    for i in B:\n",
        "        if i not in A:\n",
        "            ind[i].append(-1)\n",
        "        else:\n",
        "            for j in range(len(A)):\n",
        "                if i == A[j]:\n",
        "                    ind[i].append(j+1)\n",
        "    for i in ind:\n",
        "        print(*ind[i])\n",
        "\n",
        "#############################################################\n",
        "# 7/10 tests passed"
      ],
      "metadata": {
        "id": "C_PR7Kog53uJ"
      },
      "execution_count": null,
      "outputs": []
    },
    {
      "cell_type": "markdown",
      "source": [
        "**Solution 3:**"
      ],
      "metadata": {
        "id": "2URQGaJfDp30"
      }
    },
    {
      "cell_type": "code",
      "source": [
        "from collections import defaultdict\n",
        "\n",
        "if __name__ == \"__main__\":\n",
        "    n, m = map(int, input().split())\n",
        "    A = defaultdict(list)\n",
        "    B = []\n",
        "    for i in range(n):\n",
        "        A[input()].append(i+1)\n",
        "    for i in range(m):\n",
        "        B.append(input())\n",
        "    for i in B:\n",
        "        if len(A[i]) == 0:\n",
        "            print(-1)\n",
        "        else:\n",
        "            print(\" \".join([str(j) for j in A[i]]))\n",
        "\n",
        "#############################################################\n",
        "# 10/10 tests passed"
      ],
      "metadata": {
        "id": "mvzMcRpcDrUT"
      },
      "execution_count": null,
      "outputs": []
    },
    {
      "cell_type": "markdown",
      "source": [
        "#### **HackerRank exercise 3:** *collections.Counter()*"
      ],
      "metadata": {
        "id": "ZyaFEie_GbL_"
      }
    },
    {
      "cell_type": "markdown",
      "source": [
        "A counter is a container that stores elements as dictionary keys, and their counts are stored as dictionary values.\n",
        "\n",
        "Sample Code\n",
        "```\n",
        ">>> from collections import Counter\n",
        ">>> \n",
        ">>> myList = [1,1,2,3,4,5,3,2,3,4,2,1,2,3]\n",
        ">>> print Counter(myList)\n",
        "Counter({2: 4, 3: 4, 1: 3, 4: 2, 5: 1})\n",
        ">>>\n",
        ">>> print Counter(myList).items()\n",
        "[(1, 3), (2, 4), (3, 4), (4, 2), (5, 1)]\n",
        ">>> \n",
        ">>> print Counter(myList).keys()\n",
        "[1, 2, 3, 4, 5]\n",
        ">>> \n",
        ">>> print Counter(myList).values()\n",
        "[3, 4, 4, 2, 1]\n",
        "```\n",
        "\n",
        "Task\n",
        "\n",
        "Raghu is a shoe shop owner. His shop has X number of shoes.\n",
        "He has a list containing the size of each shoe he has in his shop.\n",
        "There are N number of customers who are willing to pay xi amount of money only if they get the shoe of their desired size.\n",
        "\n",
        "Your task is to compute how much money Raghu earned.\n",
        "\n",
        "Input Format\n",
        "\n",
        "The first line contains X, the number of shoes.\n",
        "The second line contains the space separated list of all the shoe sizes in the shop.\n",
        "The third line contains N, the number of customers.\n",
        "The next N lines contain the space separated values of the shoe size desired by the customer and x1, the price of the shoe.\n",
        "\n",
        "Constraints\n",
        "\n",
        "0 < X < 1000\n",
        "0 < N <= 1000\n",
        "20 < xi < 100\n",
        "2 < shoes size < 20\n",
        "\n",
        "\n",
        "\n",
        "\n",
        "Output Format\n",
        "\n",
        "Print the amount of money earned by Raghu.\n",
        "\n",
        "Sample Input\n",
        "```\n",
        "10\n",
        "2 3 4 5 6 8 7 6 5 18\n",
        "6\n",
        "6 55\n",
        "6 45\n",
        "6 55\n",
        "4 40\n",
        "18 60\n",
        "10 50\n",
        "```\n",
        "Sample Output\n",
        "```\n",
        "200\n",
        "```\n",
        "Explanation\n",
        "\n",
        "Customer 1: Purchased size 6 shoe for $55.\n",
        "\n",
        "Customer 2: Purchased size 6 shoe for $45.\n",
        "\n",
        "Customer 3: Size 6 no longer available, so no purchase.\n",
        "\n",
        "Customer 4: Purchased size 4 shoe for $40.\n",
        "\n",
        "Customer 5: Purchased size 18 shoe for $60.\n",
        "\n",
        "Customer 6: Size 10 not available, so no purchase.\n",
        "\n",
        "Total money earned =  55 + 45 + 40 + 60 = 200"
      ],
      "metadata": {
        "id": "qSaTbUEIG6-e"
      }
    },
    {
      "cell_type": "markdown",
      "source": [
        "**Solution:**"
      ],
      "metadata": {
        "id": "kPMiImsFKEbW"
      }
    },
    {
      "cell_type": "code",
      "source": [
        "from collections import Counter\n",
        "\n",
        "total_shoes = input()\n",
        "shoes = Counter(input().split(\" \"))\n",
        "earned = 0\n",
        "for i in range(int(input())):\n",
        "    order = input().split()\n",
        "    if order[0] in +shoes:\n",
        "        shoes[order[0]] += -1\n",
        "        earned = earned + int(order[1])   \n",
        "print(earned)"
      ],
      "metadata": {
        "id": "WULuNbYvKJeF"
      },
      "execution_count": null,
      "outputs": []
    },
    {
      "cell_type": "markdown",
      "source": [
        "#### **Part 1 exercise:** *Number guessing game*\n"
      ],
      "metadata": {
        "id": "QFqfd7qU7xQy"
      }
    },
    {
      "cell_type": "markdown",
      "source": [
        "\n",
        "* Write a function (guessing_game) that takes no arguments.\n",
        "* When run, the function chooses a random integer between 0 and 100 (inclusive).\n",
        "*Then ask the user to guess what number has been chosen.\n",
        "* Each time the user enters a guess, the program indicates one of the following:\n",
        " * Too high\n",
        " * Too low\n",
        " * Just right\n",
        "* If the user guesses correctly, the program exits. *Otherwise, the user is asked to try again.\n",
        "The program only exits after the user guesses correctly.\n",
        "\n",
        "\n",
        "\n"
      ],
      "metadata": {
        "id": "7TfKmRiox6lX"
      }
    },
    {
      "cell_type": "markdown",
      "source": [
        "**Solution:**"
      ],
      "metadata": {
        "id": "l7_4VwJz4MqQ"
      }
    },
    {
      "cell_type": "code",
      "source": [
        "import random\n",
        "\n",
        "def guessing_game():\n",
        "\n",
        "    def input_valid():\n",
        "        input_value = None\n",
        "        while True:\n",
        "            try:\n",
        "                input_value = int(input(\"Please enter Your guess: \"))\n",
        "            except ValueError:\n",
        "                print(\n",
        "                    \"Given value is not a number. \\nPlease enter an integer. The integer should be in the 0-100 range.\")\n",
        "                continue\n",
        "            if input_value < 0 or input_value > 100:\n",
        "                print(\"Given number is not in the 0-100 range.\")\n",
        "            else:\n",
        "                return input_value\n",
        "\n",
        "    num = random.randrange(0, 100)\n",
        "    print(\"\\nWelcome to the number guessing game!\\n\")\n",
        "    print\n",
        "    (\"A random number in the 0-100 range was generated. Try to guess the number.\")\n",
        "    while True:\n",
        "        num_guess = input_valid()\n",
        "        if num_guess < num:\n",
        "            print(\"Too low. Try again.\")\n",
        "        elif num_guess > num:\n",
        "            print(\"Too high. Try again.\")\n",
        "        else:\n",
        "            print(f\"Great job! Your guess of number {num} is correct.\")\n",
        "            break\n",
        "\n",
        "if __name__ == \"__main__\":\n",
        "    guessing_game()\n",
        "\n"
      ],
      "metadata": {
        "id": "Wj677oId78D0"
      },
      "execution_count": null,
      "outputs": []
    },
    {
      "cell_type": "markdown",
      "source": [
        "### **Part 2: Improving Code Reliability**\n"
      ],
      "metadata": {
        "id": "cenlIoRGwzXk"
      }
    },
    {
      "cell_type": "markdown",
      "source": [
        "**Queues and service times** \n",
        "*Code from Learning material*"
      ],
      "metadata": {
        "id": "zZgqYABXpkPs"
      }
    },
    {
      "cell_type": "code",
      "source": [
        "from random import expovariate, gauss\n",
        "from statistics import mean, median, stdev\n",
        "\n",
        "average_arrival_interval = 5.6\n",
        "average_service_time = 5.0\n",
        "stdev_service_time = 0.5\n",
        "\n",
        "num_waiting = 0\n",
        "arrivals = []\n",
        "starts = []\n",
        "arrival = service_end = 0.0\n",
        "for i in range(20000):\n",
        "    if arrival <= service_end:\n",
        "        num_waiting += 1\n",
        "        arrival += expovariate(1.0 / average_arrival_interval)\n",
        "        arrivals.append(arrival)\n",
        "    else:\n",
        "        num_waiting -= 1\n",
        "        service_start = service_end if num_waiting else arrival\n",
        "        service_time = gauss(average_service_time, stdev_service_time)\n",
        "        service_end = service_start + service_time\n",
        "        starts.append(service_start)\n",
        "\n",
        "waits = [start - arrival for arrival, start in zip(arrivals, starts)]\n",
        "print(f'Mean wait: {mean(waits):1f}. Stdev wait: {stdev(waits):.1f}')\n",
        "print(f'Median wait: {median(waits):1f}. Max wait: {max(waits):.1f}')\n"
      ],
      "metadata": {
        "id": "hTTaUXrWp-K9"
      },
      "execution_count": null,
      "outputs": []
    },
    {
      "cell_type": "markdown",
      "source": [
        "**kmeans** \n",
        "*Code from Learning material*"
      ],
      "metadata": {
        "id": "7zYG6KXsrqN3"
      }
    },
    {
      "cell_type": "code",
      "source": [
        "from typing import Iterable, Tuple, Dict, Sequence, List\n",
        "from collections import defaultdict\n",
        "from random import sample\n",
        "from functools import partial\n",
        "from math import fsum, sqrt\n",
        "from pprint import pprint\n",
        "\n",
        "Point = Tuple[int, ...]\n",
        "Centroid = Point\n",
        "\n",
        "points = [\n",
        "    (10, 41, 23),\n",
        "    (22, 30, 29),\n",
        "    (11, 42, 5),\n",
        "    (20, 32, 4),\n",
        "    (12, 40, 12),\n",
        "    (21, 36, 23)\n",
        "]\n",
        "\n",
        "# centroids = [\n",
        "#     (9, 39, 20),\n",
        "#     (12, 36, 25)\n",
        "# ]\n",
        "\n",
        "# groups = [\n",
        "#     [(10, 41, 23),\n",
        "#      (11, 42, 5),\n",
        "#      (20, 32, 4),\n",
        "#      (12, 40, 12)],\n",
        "#     [(22, 30, 29),\n",
        "#      (21, 36, 23)]\n",
        "# ]\n",
        "\n",
        "\n",
        "def transpose(data):\n",
        "    # Swap rows and columns in a 2-D array of data\n",
        "    return list(zip(*data))\n",
        "\n",
        "\n",
        "def mean(data: Iterable[float]) -> float:\n",
        "    # Accurate arithmetic mean\n",
        "    data = list(data)\n",
        "    return fsum(data) / len(data)\n",
        "\n",
        "\n",
        "def dist(p: Point, q: Point, fsum=fsum, sqrt=sqrt, zip=zip) -> float:\n",
        "    # Euclidean distance function for multi-dimensional data\n",
        "    return sqrt(fsum([(x - y) ** 2 for x, y in zip(p, q)]))\n",
        "\n",
        "\n",
        "def assign_data(centroids: Sequence[Point], data: Iterable[Point]) -> Dict[Centroid, List[Point]]:\n",
        "    # Group points to the closest centroid\n",
        "    d = defaultdict(list)\n",
        "    for point in data:\n",
        "        # gives distance to closest centroid\n",
        "        # min([dist(point, centroid) for centroid in centroids])\n",
        "        # gives centroid coords\n",
        "        # min(centroids, key=lambda centroid: dist(point, centroid))\n",
        "        closest_centroid = min(centroids, key=partial(dist, point))\n",
        "        d[closest_centroid].append(point)\n",
        "    return dict(d)\n",
        "\n",
        "\n",
        "def compute_centroids(groups: Iterable[Sequence[Point]]) -> List[Centroid]:\n",
        "    # Compute the centroid of each group in groups\n",
        "    return [tuple(map(mean, transpose(group))) for group in groups]\n",
        "\n",
        "\n",
        "def k_means(data: Iterable[Point], k: int = 2, iterations: int = 50) -> List[Centroid]:\n",
        "    data = list(data)\n",
        "    centroids = sample(data, k)\n",
        "    for i in range(iterations):\n",
        "        labeled = assign_data(centroids, data)\n",
        "        centroids = compute_centroids(labeled.values())\n",
        "    return centroids\n",
        "\n",
        "\n",
        "if __name__ == \"__main__\":\n",
        "    # pprint(assign_data(centroids, points), width=45)\n",
        "    # pprint(k_means(points, k=2), width=50)\n",
        "    centroids = k_means(points, k=2)\n",
        "    d = assign_data(centroids, points)\n",
        "    pprint(d)\n",
        "\n",
        "    # Check the types\n",
        "    # Argument 1 to \"map\" has incompatible type \"Callable[[Iterable[float]], float]\";\n",
        "    # expected \"Callable[[Any], int]\""
      ],
      "metadata": {
        "id": "HkDe03aZruQM"
      },
      "execution_count": null,
      "outputs": []
    },
    {
      "cell_type": "markdown",
      "source": [
        "#### **HackerRank exercise 4:** *Collections.deque()*"
      ],
      "metadata": {
        "id": "S3eUlRGQcSLK"
      }
    },
    {
      "cell_type": "markdown",
      "source": [
        "A deque is a double-ended queue. It can be used to add or remove elements from both ends.\n",
        "\n",
        "Deques support thread safe, memory efficient appends and pops from either side of the deque with approximately the same O(1) performance in either direction.\n",
        "\n",
        "Example\n",
        "\n",
        "Code\n",
        "```\n",
        ">>> from collections import deque\n",
        ">>> d = deque()\n",
        ">>> d.append(1)\n",
        ">>> print d\n",
        "deque([1])\n",
        ">>> d.appendleft(2)\n",
        ">>> print d\n",
        "deque([2, 1])\n",
        ">>> d.clear()\n",
        ">>> print d\n",
        "deque([])\n",
        ">>> d.extend('1')\n",
        ">>> print d\n",
        "deque(['1'])\n",
        ">>> d.extendleft('234')\n",
        ">>> print d\n",
        "deque(['4', '3', '2', '1'])\n",
        ">>> d.count('1')\n",
        "1\n",
        ">>> d.pop()\n",
        "'1'\n",
        ">>> print d\n",
        "deque(['4', '3', '2'])\n",
        ">>> d.popleft()\n",
        "'4'\n",
        ">>> print d\n",
        "deque(['3', '2'])\n",
        ">>> d.extend('7896')\n",
        ">>> print d\n",
        "deque(['3', '2', '7', '8', '9', '6'])\n",
        ">>> d.remove('2')\n",
        ">>> print d\n",
        "deque(['3', '7', '8', '9', '6'])\n",
        ">>> d.reverse()\n",
        ">>> print d\n",
        "deque(['6', '9', '8', '7', '3'])\n",
        ">>> d.rotate(3)\n",
        ">>> print d\n",
        "deque(['8', '7', '3', '6', '9'])\n",
        "```\n",
        "Task\n",
        "\n",
        "Perform append, pop, popleft and appendleft methods on an empty deque d.\n",
        "\n",
        "Input Format\n",
        "\n",
        "The first line contains an integer N, the number of operations.\n",
        "The next N lines contains the space separated names of methods and their values.\n",
        "\n",
        "Constraints\n",
        "\n",
        "0 < N <= 100\n",
        "\n",
        "Output Format\n",
        "\n",
        "Print the space separated elements of deque d.\n",
        "\n",
        "Sample Input\n",
        "```\n",
        "6\n",
        "append 1\n",
        "append 2\n",
        "append 3\n",
        "appendleft 4\n",
        "pop\n",
        "popleft\n",
        "```\n",
        "Sample Output\n",
        "```\n",
        "1 2\n",
        "```"
      ],
      "metadata": {
        "id": "Ehraz2JUcbh7"
      }
    },
    {
      "cell_type": "markdown",
      "source": [
        "**Solution:**"
      ],
      "metadata": {
        "id": "xY0WZumndD_o"
      }
    },
    {
      "cell_type": "code",
      "source": [
        "from collections import deque\n",
        "\n",
        "d = deque()\n",
        "for n in range(int(input())):\n",
        "    cmd = input().split()\n",
        "    if len(cmd) > 1:\n",
        "        if cmd[0] == \"append\":\n",
        "            d.append(cmd[1])\n",
        "        elif cmd[0] == \"appendleft\":\n",
        "            d.appendleft(cmd[1])\n",
        "    if len(cmd) == 1:\n",
        "        if cmd[0] == \"pop\":\n",
        "            d.pop()\n",
        "        if cmd[0] == \"popleft\":\n",
        "            d.popleft()\n",
        "        elif cmd[0] == \"clear\":\n",
        "            d.clear()\n",
        "print(\" \".join([str(j) for j in d]))"
      ],
      "metadata": {
        "id": "NoIEaWSBcZ03"
      },
      "execution_count": null,
      "outputs": []
    },
    {
      "cell_type": "markdown",
      "source": [
        "#### **Part 2 exercise:** *Pig Latin*"
      ],
      "metadata": {
        "id": "wdvAeTl7nMXH"
      }
    },
    {
      "cell_type": "markdown",
      "source": [
        "Pig Latin (http://mng.bz/YrON) is a common children's \"secret\" language in English-speaking countries. (It's normally secret among children who forget that their parents were once children themselves.) The rules for translating words from English into Pig Latin are quite simple:\n",
        "\n",
        "If the word begins with a vowel (a, e, i, o, or u), add \"way\" to the end of the word. So \"air\" becomes \"airway\" and \"eat\" becomes \"eatway.\"\n",
        "\n",
        "If the word begins with any other letter, then we take the first letter, put it on the end of the word, and then add \"ay.\" Thus, \"python\" becomes \"ythonpay\" and \"computer\" becomes \"omputercay.\"\n",
        "\n",
        "(And yes, I recognize that the rules can be made more sophisticated. Let's keep it simple for the purposes of this exercise.)\n",
        "\n",
        "For this exercise, write a Python function (pig_latin) that takes a string as input, assumed to be an English word. The function should return the translation of this word into Pig Latin. You may assume that the word contains no capital letters or punctuation.\n",
        "\n",
        "This exercise isn't meant to help you translate documents into Pig Latin for your job. (If that is your job, then I really have to question your career choices.) However, it demonstrates some of the powerful techniques that you should know when working with sequences, including searches, iteration, and slices. It's hard to imagine a Python program that doesn't include any of these techniques."
      ],
      "metadata": {
        "id": "CtGzK9htnaG8"
      }
    },
    {
      "cell_type": "markdown",
      "source": [
        "**Solution:**"
      ],
      "metadata": {
        "id": "6eyzS9-D82FX"
      }
    },
    {
      "cell_type": "code",
      "source": [
        "from collections import deque\n",
        "\n",
        "\n",
        "def pig_latin(word):\n",
        "    word_translated = deque()\n",
        "    word_ending = [\"w\", \"a\", \"y\"]\n",
        "    vowels = \"aeiou\"\n",
        "    for char in word:\n",
        "        word_translated.append(char)\n",
        "    if word_translated[0] in vowels:\n",
        "        word_translated += word_ending\n",
        "    else:\n",
        "        word_translated.append(word_translated[0])\n",
        "        word_translated.popleft()\n",
        "        word_translated += word_ending[1:]\n",
        "    return \"\".join(word_translated)\n",
        "\n",
        "\n",
        "if __name__ == \"__main__\":\n",
        "    # TEST\n",
        "    print(pig_latin(\"computer\"))\n",
        "    print(pig_latin(\"playlist\"))\n",
        "    print(pig_latin(\"apple\"))\n",
        "    print(pig_latin(\"exit\"))"
      ],
      "metadata": {
        "id": "6NLdSO4dn0ph"
      },
      "execution_count": null,
      "outputs": []
    },
    {
      "cell_type": "markdown",
      "source": [
        "### **Part 3: Cluster Analysis With Python**\n"
      ],
      "metadata": {
        "id": "eHWyyYSPbRGc"
      }
    },
    {
      "cell_type": "markdown",
      "source": [
        "#### **HackerRank exercise 4:** *Collections.OrderedDict()*"
      ],
      "metadata": {
        "id": "F99w3h0-cVhs"
      }
    },
    {
      "cell_type": "markdown",
      "source": [
        "An OrderedDict is a dictionary that remembers the order of the keys that were inserted first. If a new entry overwrites an existing entry, the original insertion position is left unchanged.\n",
        "\n",
        "Example\n",
        "\n",
        "Code\n",
        "```\n",
        ">>> from collections import OrderedDict\n",
        ">>> \n",
        ">>> ordinary_dictionary = {}\n",
        ">>> ordinary_dictionary['a'] = 1\n",
        ">>> ordinary_dictionary['b'] = 2\n",
        ">>> ordinary_dictionary['c'] = 3\n",
        ">>> ordinary_dictionary['d'] = 4\n",
        ">>> ordinary_dictionary['e'] = 5\n",
        ">>> \n",
        ">>> print ordinary_dictionary\n",
        "{'a': 1, 'c': 3, 'b': 2, 'e': 5, 'd': 4}\n",
        ">>> \n",
        ">>> ordered_dictionary = OrderedDict()\n",
        ">>> ordered_dictionary['a'] = 1\n",
        ">>> ordered_dictionary['b'] = 2\n",
        ">>> ordered_dictionary['c'] = 3\n",
        ">>> ordered_dictionary['d'] = 4\n",
        ">>> ordered_dictionary['e'] = 5\n",
        ">>> \n",
        ">>> print ordered_dictionary\n",
        "OrderedDict([('a', 1), ('b', 2), ('c', 3), ('d', 4), ('e', 5)])\n",
        "```\n",
        "Task\n",
        "\n",
        "You are the manager of a supermarket.\n",
        "You have a list of N items together with their prices that consumers bought on a particular day.\n",
        "Your task is to print each item_name and net_price in order of its first occurrence.\n",
        "\n",
        "item_name = Name of the item.\n",
        "net_price = Quantity of the item sold multiplied by the price of each item.\n",
        "\n",
        "Input Format\n",
        "\n",
        "The first line contains the number of items, N.\n",
        "The next N lines contains the item's name and price, separated by a space.\n",
        "\n",
        "Constraints\n",
        "\n",
        "0 < N <= 100\n",
        "\n",
        "Output Format\n",
        "\n",
        "Print the item_name and net_price in order of its first occurrence.\n",
        "\n",
        "Sample Input\n",
        "```\n",
        "9\n",
        "BANANA FRIES 12\n",
        "POTATO CHIPS 30\n",
        "APPLE JUICE 10\n",
        "CANDY 5\n",
        "APPLE JUICE 10\n",
        "CANDY 5\n",
        "CANDY 5\n",
        "CANDY 5\n",
        "POTATO CHIPS 30\n",
        "```\n",
        "Sample Output\n",
        "```\n",
        "BANANA FRIES 12\n",
        "POTATO CHIPS 60\n",
        "APPLE JUICE 20\n",
        "CANDY 20\n",
        "```\n",
        "Explanation\n",
        "\n",
        "BANANA FRIES: Quantity bought: 1, Price: 12\n",
        "\n",
        "Net Price: 12\n",
        "\n",
        "POTATO CHIPS: Quantity bought: 2, Price: 30\n",
        "\n",
        "Net Price: 60\n",
        "\n",
        "APPLE JUICE: Quantity bought: 2, Price: 10\n",
        "\n",
        "Net Price: 20\n",
        "\n",
        "CANDY: Quantity bought: 4, Price: 5\n",
        "\n",
        "Net Price: 20"
      ],
      "metadata": {
        "id": "Sl6doxcfc_XJ"
      }
    },
    {
      "cell_type": "markdown",
      "source": [
        "**Solution:**"
      ],
      "metadata": {
        "id": "PzngZSiOdwLM"
      }
    },
    {
      "cell_type": "code",
      "source": [],
      "metadata": {
        "id": "hTH2a-B0d0nF"
      },
      "execution_count": null,
      "outputs": []
    },
    {
      "cell_type": "markdown",
      "source": [
        "#### **Part 3 exercise:** *Restaurant*"
      ],
      "metadata": {
        "id": "SXVI20oEbkIy"
      }
    },
    {
      "cell_type": "markdown",
      "source": [
        "One common use for dicts is as a small database within our program. We set up the dict at the top of the program, and then reference it throughout the program.\n",
        "\n",
        "For example, you might set up a dict of months, with the month names as keys and numbers as values. Or perhaps you’ll have a dict of users, with user IDs as the keys and email addresses as the values.\n",
        "\n",
        "In this exercise, I want you to create a new constant dict, called MENU, representing the possible items you can order at a restaurant. The keys will be strings, and the values will be prices (i.e., integers). You should then write a function, restaurant, that asks the user to enter an order:\n",
        "\n",
        "* If the user enters the name of a dish on the menu, the program prints the price and the running total. It then asks the user again for their order.\n",
        "* If the user enters the name of a dish not on the menu, the program scolds the user (mildly). It then asks the user again for their order.\n",
        "* If the user enters an empty string, the program stops prompting and prints the total amount.\n",
        "\n",
        "For example, a session with the user might look like this:\n",
        "\n",
        "Order: sandwich\n",
        "sandwich costs 10, total is 10\n",
        "Order: tea\n",
        "tea costs 7, total is 17\n",
        "Order: elephant\n",
        "Sorry, we are fresh out of elephant today.\n",
        "Order: \n",
        "Your total is 17\n",
        "Note that you can always check to see if a key is in a dict with the in operator. That returns True or False."
      ],
      "metadata": {
        "id": "B828eYqTbsr0"
      }
    },
    {
      "cell_type": "markdown",
      "source": [
        "**Solution:**"
      ],
      "metadata": {
        "id": "ONUFhtKQb4aw"
      }
    },
    {
      "cell_type": "code",
      "source": [],
      "metadata": {
        "id": "i6cVXWJ0b3uK"
      },
      "execution_count": null,
      "outputs": []
    }
  ]
}